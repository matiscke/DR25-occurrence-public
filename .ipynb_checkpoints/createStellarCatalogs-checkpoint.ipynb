{
 "cells": [
  {
   "cell_type": "code",
   "execution_count": 1,
   "metadata": {},
   "outputs": [],
   "source": [
    "import numpy as np\n",
    "import requests\n",
    "import pandas as pd\n",
    "from cStringIO import StringIO\n",
    "import matplotlib.pyplot as plt\n",
    "from scipy.interpolate import griddata\n"
   ]
  },
  {
   "cell_type": "code",
   "execution_count": 2,
   "metadata": {},
   "outputs": [],
   "source": [
    "catalogType = \"Berger2019\"\n",
    "# catalogType = \"Burke\"\n",
    "\n",
    "doRadCut = False"
   ]
  },
  {
   "cell_type": "markdown",
   "metadata": {},
   "source": [
    "Import the base DR25 catalog from the exoplanet archive"
   ]
  },
  {
   "cell_type": "code",
   "execution_count": 3,
   "metadata": {},
   "outputs": [],
   "source": [
    "if False:\n",
    "    urlstellar = \"https://exoplanetarchive.ipac.caltech.edu/cgi-bin/nstedAPI/nph-nstedAPI?table=q1_q17_dr25_stellar&select=*\"\n",
    "\n",
    "    r = requests.get(urlstellar)\n",
    "    if r.status_code != requests.codes.ok:\n",
    "        r.raise_for_status()\n",
    "    fh = StringIO(r.content)\n",
    "    dr25Stellar = pd.read_csv(fh, dtype={\"st_quarters\":str})\n",
    "    dr25Stellar.to_csv(\"stellarCatalogs/dr25_stellar_archive.txt\", index=False)\n",
    "else:\n",
    "    dr25Stellar = pd.read_csv(\"stellarCatalogs/dr25_stellar_archive.txt\", dtype={\"st_quarters\":str})\n",
    "\n"
   ]
  },
  {
   "cell_type": "markdown",
   "metadata": {},
   "source": [
    "Import the DR25 supplemental catalog"
   ]
  },
  {
   "cell_type": "code",
   "execution_count": 4,
   "metadata": {},
   "outputs": [],
   "source": [
    "if False:\n",
    "    urlsupp = \"https://exoplanetarchive.ipac.caltech.edu/cgi-bin/nstedAPI/nph-nstedAPI?table=q1_q17_dr25_supp_stellar&select=*\"\n",
    "    r = requests.get(urlsupp)\n",
    "    if r.status_code != requests.codes.ok:\n",
    "        r.raise_for_status()\n",
    "    fh = StringIO(r.content)\n",
    "    dr25StellarSup = pd.read_csv(fh, dtype={\"st_quarters\":str})\n",
    "    dr25StellarSup.to_csv(\"stellarCatalogs/dr25_stellar_supp_archive.txt\", index=False)\n",
    "else:\n",
    "    dr25StellarSup = pd.read_csv(\"stellarCatalogs/dr25_stellar_supp_archive.txt\", dtype={\"st_quarters\":str})\n"
   ]
  },
  {
   "cell_type": "markdown",
   "metadata": {},
   "source": [
    "Merge the two catalogs.  The supplemental catalog has fewer entries, so we have to be careful about the merge.  The merged catalog has the same number of entries as the supplemental catalog."
   ]
  },
  {
   "cell_type": "code",
   "execution_count": 5,
   "metadata": {},
   "outputs": [],
   "source": [
    "# merging with inner gives the intersection of kepids\n",
    "mergedDr25Stellar = pd.merge(dr25Stellar, dr25StellarSup, on=\"kepid\", how=\"inner\")\n",
    "# get the original column names\n",
    "sColumns = list(dr25Stellar)\n"
   ]
  },
  {
   "cell_type": "markdown",
   "metadata": {},
   "source": [
    "Because both catalogs share column names, mergedStellar has a column for each catalog, with the column names given an \"\\_x\" for the stellar catalog and \"\\_y\" for the supplemental.  We have to reconcile this by \n",
    "    a) restoring the original names, \n",
    "    b) copying the values in the supplemental catalog to the stellar columns for those columns specified in the supplemental documentation, and \n",
    "    c) removing the supplemental colums."
   ]
  },
  {
   "cell_type": "code",
   "execution_count": 6,
   "metadata": {},
   "outputs": [
    {
     "name": "stdout",
     "output_type": "stream",
     "text": [
      "the merged catalog has 197096 entries\n"
     ]
    }
   ],
   "source": [
    "\n",
    "suppColNames = [ \"kepid\",\"teff\",\"teff_err1\",\"teff_err2\",\"logg\",\"logg_err1\",\"logg_err2\",\"feh\",\"feh_err1\",\"feh_err2\",\"radius\",\"radius_err1\",\"radius_err2\",\"mass\",\"mass_err1\",\"mass_err2\",\"dens\",\"dens_err1\",\"dens_err2\",\"dist\",\"dist_err1\",\"dist_err2\",\"av\",\"av_err1\",\"av_err2\",\"prov_sec\" ]\n",
    "\n",
    "# first copy all the stellar paratmers to their original names\n",
    "for i in range(1,len(sColumns)):\n",
    "    mergedDr25Stellar[sColumns[i]] = mergedDr25Stellar[sColumns[i]+\"_x\"]\n",
    "# now overwrite using the new columns (from Savita's erratum file)\n",
    "for i in range(1,len(suppColNames)):\n",
    "    mergedDr25Stellar[suppColNames[i]] = mergedDr25Stellar[suppColNames[i]+\"_y\"]\n",
    "# drop the doubled columns\n",
    "for i in range(1,len(sColumns)):\n",
    "    mergedDr25Stellar = mergedDr25Stellar.drop([sColumns[i]+\"_x\", sColumns[i]+\"_y\"], axis=1)\n",
    "print(\"the merged catalog has \" + str(len(mergedDr25Stellar)) + \" entries\")\n",
    "\n"
   ]
  },
  {
   "cell_type": "markdown",
   "metadata": {},
   "source": [
    "Save the merged catalog."
   ]
  },
  {
   "cell_type": "code",
   "execution_count": 7,
   "metadata": {},
   "outputs": [],
   "source": [
    "mergedDr25Stellar.to_csv(\"stellarCatalogs/dr25_stellar_updated_feh.txt\", index=False)"
   ]
  },
  {
   "cell_type": "markdown",
   "metadata": {},
   "source": [
    "Now restore the entries in the original stellar catalog that are not in the supplemental catalog.  First we identify the original-only entries by repeating the merge, then entries in the merge from the stellar table.  Then we concat the remaining entries with the merged table.  Finally we save the final full table."
   ]
  },
  {
   "cell_type": "code",
   "execution_count": 8,
   "metadata": {},
   "outputs": [
    {
     "name": "stdout",
     "output_type": "stream",
     "text": [
      "the final catalog has 200038 entries\n"
     ]
    }
   ],
   "source": [
    "# now get the stars not in the stellar_supp by dropping stars in the merge from stellar (using reset index)\n",
    "merge2 = pd.merge(dr25Stellar.reset_index(), dr25StellarSup, on=\"kepid\", how=\"inner\")\n",
    "dr25StellarNoSup = dr25Stellar.drop(merge2[\"index\"])\n",
    "\n",
    "# now concat the merged set and the non-supp stars\n",
    "dr25StellarFullMerged = pd.concat([mergedDr25Stellar, dr25StellarNoSup])\n",
    "\n",
    "# print(list(stellar_full_merged))\n",
    "print(\"the final catalog has \" + str(len(dr25StellarFullMerged)) + \" entries\")\n",
    "\n",
    "dr25StellarFullMerged.to_csv(\"stellarCatalogs/dr25_stellar_updated_feh_all.txt\", index=False)\n",
    "\n"
   ]
  },
  {
   "cell_type": "markdown",
   "metadata": {},
   "source": [
    "Next we bring in the Gaia-derived properties from Berger et. al. (http://adsabs.harvard.edu/abs/2018ApJ...866...99B).  This provides improved radii and distances.  It also includes effective temperatures that differ from the DR25 catalog, but we believe the DR25 catalog's effectiv temperatures are more reliable. The Berger table has 177,911 entries, and we will restrict our analysis to the stellar population in the Berger table."
   ]
  },
  {
   "cell_type": "code",
   "execution_count": 9,
   "metadata": {},
   "outputs": [
    {
     "name": "stdout",
     "output_type": "stream",
     "text": [
      "the gaia/Berger catalog has 177911 entries\n"
     ]
    }
   ],
   "source": [
    "from astropy.io import ascii\n",
    "\n",
    "# read the publised table from Berger et. al. \n",
    "gaiaUpdates = ascii.read(\"stellarCatalogs/apj_table1_published.txt\")\n",
    "\n",
    "gaiaUpdatesPd = gaiaUpdates.to_pandas();\n",
    "dr25GaiaStellar = pd.merge(dr25StellarFullMerged, gaiaUpdatesPd, left_on=\"kepid\", right_on=\"KIC\", how=\"inner\")\n",
    "\n",
    "# copy the dr25 distance and radius to renamed columns in case anyone wants to compare\n",
    "dr25GaiaStellar[\"dist_DR25\"] = dr25GaiaStellar[\"dist\"]\n",
    "dr25GaiaStellar[\"dist_DR25_err1\"] = dr25GaiaStellar[\"dist_err1\"]\n",
    "dr25GaiaStellar[\"dist_DR25_err2\"] = dr25GaiaStellar[\"dist_err2\"]\n",
    "\n",
    "dr25GaiaStellar[\"radius_DR25\"] = dr25GaiaStellar[\"radius\"]\n",
    "dr25GaiaStellar[\"radius_DR25_err1\"] = dr25GaiaStellar[\"radius_err1\"]\n",
    "dr25GaiaStellar[\"radius_DR25_err2\"] = dr25GaiaStellar[\"radius_err2\"]\n",
    "\n",
    "# copy Gaia distance to the dr25 distance column\n",
    "dr25GaiaStellar[\"dist\"] = dr25GaiaStellar[\"D\"]\n",
    "# for DR25, err1 is the upper uncertainty, err2 is the lower uncertainty and is < 0\n",
    "# for Gaia, E_D is the upper uncertainty, E_d is the lower uncertainty and is > 0\n",
    "dr25GaiaStellar[\"dist_err1\"] = dr25GaiaStellar[\"E_D\"]\n",
    "dr25GaiaStellar[\"dist_err2\"] = -dr25GaiaStellar[\"e_D\"]\n",
    "# copy Gaia radius to the dr25 radius column\n",
    "dr25GaiaStellar[\"radius\"] = dr25GaiaStellar[\"R*\"]\n",
    "# for DR25, err1 is the upper uncertainty, err2 is the lower uncertainty and is < 0\n",
    "# for Gaia, E_R* is the upper uncertainty, E_R* is the lower uncertainty and is > 0\n",
    "dr25GaiaStellar[\"radius_err1\"] = dr25GaiaStellar[\"E_R*\"]\n",
    "dr25GaiaStellar[\"radius_err2\"] = -dr25GaiaStellar[\"e_R*\"]\n",
    "\n",
    "# we'll leave the Gaia columns in place because they have different names\n",
    "print(\"the gaia/Berger catalog has \" + str(len(dr25GaiaStellar)) + \" entries\")\n",
    "\n",
    "dr25GaiaStellar.to_csv(\"stellarCatalogs/dr25_stellar_supp_gaia.txt\", index=False)"
   ]
  },
  {
   "cell_type": "code",
   "execution_count": null,
   "metadata": {},
   "outputs": [],
   "source": [
    "\n"
   ]
  },
  {
   "cell_type": "code",
   "execution_count": 10,
   "metadata": {},
   "outputs": [],
   "source": [
    "travisStellar = pd.read_csv(\"stellarCatalogs/ALL_KEPLER_GRID_PARS_GK_FIXED_MANNMODELS.csv\", dtype={\"band\":str})\n",
    "\n",
    "travisColNames = [ \"id_starname\",\"iso_rad\",\"iso_rad_err1\",\"iso_rad_err2\",\"iso_logg\",\"iso_logg_err1\",\"iso_logg_err2\",\n",
    "                \"iso_feh\",\"iso_feh_err1\",\"iso_feh_err2\",\"iso_teff\",\"iso_teff_err1\",\"iso_teff_err2\",\n",
    "                \"iso_mass\",\"iso_mass_err1\",\"iso_mass_err2\",\"iso_rho\",\"iso_rho_err1\",\"iso_rho_err2\",\n",
    "                \"dist\",\"dist_err1\",\"dist_err2\",\"iso_avs\",\"iso_avs_err1\",\"iso_avs_err2\" ]\n",
    "\n",
    "# remove items not in travisColNames\n",
    "for colName in list(travisStellar):\n",
    "    if not colName in travisColNames:\n",
    "        travisStellar = travisStellar.drop(colName, axis=1)\n",
    "# extract the integer kepid from the starname\n",
    "iso_kepid = np.zeros((len(travisStellar),), dtype=np.int)\n",
    "for i in range(len(travisStellar)):\n",
    "    iso_kepid[i] = int(travisStellar[\"id_starname\"][i][3:])\n",
    "\n",
    "travisStellar[\"iso_kepid\"] = iso_kepid\n",
    "travisStellar = travisStellar.drop(\"id_starname\", axis=1)\n",
    "\n"
   ]
  },
  {
   "cell_type": "code",
   "execution_count": 11,
   "metadata": {},
   "outputs": [
    {
     "name": "stdout",
     "output_type": "stream",
     "text": [
      "the Berger2019 catalog has 175828 entries\n"
     ]
    }
   ],
   "source": [
    "dr25GaiaStellar = pd.merge(dr25GaiaStellar, travisStellar, left_on=\"kepid\", right_on=\"iso_kepid\", how=\"inner\")\n",
    "\n",
    "# copy the dr25 distance and radius to renamed columns in case anyone wants to compare\n",
    "dr25GaiaStellar[\"teff_DR25\"] = dr25GaiaStellar[\"teff\"]\n",
    "dr25GaiaStellar[\"teff_DR25_err1\"] = dr25GaiaStellar[\"teff_err1\"]\n",
    "dr25GaiaStellar[\"teff_DR25_err2\"] = dr25GaiaStellar[\"teff_err2\"]\n",
    "\n",
    "dr25GaiaStellar[\"logg_DR25\"] = dr25GaiaStellar[\"logg\"]\n",
    "dr25GaiaStellar[\"logg_DR25_err1\"] = dr25GaiaStellar[\"logg_err1\"]\n",
    "dr25GaiaStellar[\"logg_DR25_err2\"] = dr25GaiaStellar[\"logg_err2\"]\n",
    "\n",
    "dr25GaiaStellar[\"feh_DR25\"] = dr25GaiaStellar[\"feh\"]\n",
    "dr25GaiaStellar[\"feh_DR25_err1\"] = dr25GaiaStellar[\"feh_err1\"]\n",
    "dr25GaiaStellar[\"feh_DR25_err2\"] = dr25GaiaStellar[\"feh_err2\"]\n",
    "\n",
    "# copy isochrone data to the dr25 data columns\n",
    "dr25GaiaStellar[\"logg\"] = dr25GaiaStellar[\"iso_logg\"]\n",
    "dr25GaiaStellar[\"logg_err1\"] = dr25GaiaStellar[\"iso_logg_err1\"]\n",
    "dr25GaiaStellar[\"logg_err2\"] = -dr25GaiaStellar[\"iso_logg_err2\"]\n",
    "\n",
    "dr25GaiaStellar[\"teff\"] = dr25GaiaStellar[\"iso_teff\"]\n",
    "dr25GaiaStellar[\"teff_err1\"] = dr25GaiaStellar[\"iso_teff_err1\"]\n",
    "dr25GaiaStellar[\"teff_err2\"] = -dr25GaiaStellar[\"iso_teff_err2\"]\n",
    "\n",
    "dr25GaiaStellar[\"radius\"] = dr25GaiaStellar[\"iso_rad\"]\n",
    "dr25GaiaStellar[\"radius_err1\"] = dr25GaiaStellar[\"iso_rad_err1\"]\n",
    "dr25GaiaStellar[\"radius_err2\"] = -dr25GaiaStellar[\"iso_rad_err2\"]\n",
    "\n",
    "dr25GaiaStellar[\"feh\"] = dr25GaiaStellar[\"iso_feh\"]\n",
    "dr25GaiaStellar[\"feh_err1\"] = dr25GaiaStellar[\"iso_feh_err1\"]\n",
    "dr25GaiaStellar[\"feh_err2\"] = -dr25GaiaStellar[\"iso_feh_err2\"]\n",
    "\n",
    "# now we have to correct the DR25 limb darkening coefficients\n",
    "# by linearly interpolating the table from Claret and Boemen\n",
    "# this takes several minutes\n",
    "\n",
    "dr25GaiaStellar[\"limbdark_coeff1_DR25\"] = dr25GaiaStellar[\"limbdark_coeff1\"]\n",
    "dr25GaiaStellar[\"limbdark_coeff2_DR25\"] = dr25GaiaStellar[\"limbdark_coeff2\"]\n",
    "dr25GaiaStellar[\"limbdark_coeff3_DR25\"] = dr25GaiaStellar[\"limbdark_coeff3\"]\n",
    "dr25GaiaStellar[\"limbdark_coeff4_DR25\"] = dr25GaiaStellar[\"limbdark_coeff4\"]\n",
    "\n",
    "limbDarkeningTable= pd.read_csv(\"stellarCatalogs/claretBoemenTableEqn5Kepler.txt\", delim_whitespace=True)\n",
    "\n",
    "ldParams = np.transpose(np.array((limbDarkeningTable.logg.values,\n",
    "                                  limbDarkeningTable.teff.values,\n",
    "                                  limbDarkeningTable.feh.values)))\n",
    "\n",
    "starParams = np.transpose(np.array((dr25GaiaStellar.logg.values, \n",
    "              dr25GaiaStellar.teff.values, \n",
    "              dr25GaiaStellar.feh.values)))\n",
    "\n",
    "dr25GaiaStellar[\"limbdark_coeff1\"] = griddata(ldParams, limbDarkeningTable.a1.values, starParams)\n",
    "dr25GaiaStellar[\"limbdark_coeff2\"] = griddata(ldParams, limbDarkeningTable.a2.values, starParams)\n",
    "dr25GaiaStellar[\"limbdark_coeff3\"] = griddata(ldParams, limbDarkeningTable.a3.values, starParams)\n",
    "dr25GaiaStellar[\"limbdark_coeff4\"] = griddata(ldParams, limbDarkeningTable.a4.values, starParams)\n",
    "\n",
    "# we'll leave the Gaia columns in place because they have different names\n",
    "print(\"the Berger2019 catalog has \" + str(len(dr25GaiaStellar)) + \" entries\")\n",
    "\n",
    "\n",
    "dr25GaiaStellar.to_csv(\"stellarCatalogs/dr25_stellar_supp_gaia_logg.txt\", index=False)\n",
    "\n",
    "    "
   ]
  },
  {
   "cell_type": "code",
   "execution_count": null,
   "metadata": {},
   "outputs": [],
   "source": []
  },
  {
   "cell_type": "code",
   "execution_count": null,
   "metadata": {},
   "outputs": [],
   "source": []
  },
  {
   "cell_type": "markdown",
   "metadata": {},
   "source": [
    "dr25_stellar_supp_gaia_logg.txt is our base catalog.  We now apply several cuts to restrict our occurrence rate analysis to targets for which we have reliable completeness information, following the guidelines in Section 3.6 of https://exoplanetarchive.ipac.caltech.edu/docs/KSCI-19111-002.pdf."
   ]
  },
  {
   "cell_type": "code",
   "execution_count": 12,
   "metadata": {},
   "outputs": [],
   "source": [
    "cleanDr25GaiaStellar = dr25GaiaStellar"
   ]
  },
  {
   "cell_type": "markdown",
   "metadata": {},
   "source": [
    "First we remove the stars marked binary due to Gaia radius (Bin = 1 or 3) or evolved (Evol > 0).  We do not remove targets with AO companions (Bin = 2) because the target star population was not uniformly surveyed with AO.  We expect few evolved stars because most should have been removed by the R <= 1.25 cut.\n",
    "\n"
   ]
  },
  {
   "cell_type": "code",
   "execution_count": 13,
   "metadata": {},
   "outputs": [
    {
     "name": "stdout",
     "output_type": "stream",
     "text": [
      "There are 1853 targets with binary flag == 1 or 3\n",
      "There are 64982 targets with evolved flag > 0\n",
      "173975 entries after removing marked binaries\n",
      "109083 entries after removing marked evolved stars\n"
     ]
    }
   ],
   "source": [
    "from evolstate_lib import evolstate\n",
    "\n",
    "if (catalogType == \"Berger2019\"):\n",
    "    binaryDr25GaiaStellar = cleanDr25GaiaStellar[(cleanDr25GaiaStellar.Bin == 1)|(cleanDr25GaiaStellar.Bin == 3)]\n",
    "    if catalogType == \"Berger2019\":\n",
    "        binaryDr25GaiaStellar.to_csv(\"stellarCatalogs/dr25_stellar_supp_gaia_binaries.txt\", index=False)\n",
    "    print(\"There are \" + str(len(binaryDr25GaiaStellar)) + \" targets with binary flag == 1 or 3\")\n",
    "\n",
    "    cleanDr25GaiaStellar[\"Evol\"] = evolstate.evolstate(cleanDr25GaiaStellar.teff.values, \n",
    "                                                       cleanDr25GaiaStellar.radius.values, cleanDr25GaiaStellar.logg.values)\n",
    "    evolvedDr25GaiaStellar = cleanDr25GaiaStellar[cleanDr25GaiaStellar.Evol > 0]\n",
    "    if catalogType == \"Berger2019\":\n",
    "        evolvedDr25GaiaStellar.to_csv(\"stellarCatalogs/dr25_stellar_supp_gaia_evolved.txt\", index=False)\n",
    "    print(\"There are \" + str(len(evolvedDr25GaiaStellar)) + \" targets with evolved flag > 0\")\n",
    "\n",
    "    cleanDr25GaiaStellar = cleanDr25GaiaStellar[(cleanDr25GaiaStellar.Bin == 0)|(cleanDr25GaiaStellar.Bin == 2)]\n",
    "    print(str(len(cleanDr25GaiaStellar)) + \" entries after removing marked binaries\")\n",
    "    cleanDr25GaiaStellar = cleanDr25GaiaStellar[cleanDr25GaiaStellar.Evol == 0]\n",
    "    print(str(len(cleanDr25GaiaStellar)) + \" entries after removing marked evolved stars\")\n",
    "\n"
   ]
  },
  {
   "cell_type": "code",
   "execution_count": null,
   "metadata": {},
   "outputs": [],
   "source": []
  },
  {
   "cell_type": "code",
   "execution_count": null,
   "metadata": {},
   "outputs": [],
   "source": []
  },
  {
   "cell_type": "markdown",
   "metadata": {},
   "source": [
    "Next we remove stars that are on the list https://github.com/nasa/KeplerPORTs/blob/master/DR25_DEModel_NoisyTargetList.txt."
   ]
  },
  {
   "cell_type": "code",
   "execution_count": 16,
   "metadata": {},
   "outputs": [
    {
     "name": "stdout",
     "output_type": "stream",
     "text": [
      "107411 entries after removing noisy targets\n"
     ]
    },
    {
     "name": "stderr",
     "output_type": "stream",
     "text": [
      "/Users/steve/anaconda3/envs/py2/lib/python2.7/site-packages/ipykernel_launcher.py:2: UserWarning: Boolean Series key will be reindexed to match DataFrame index.\n",
      "  \n"
     ]
    }
   ],
   "source": [
    "noisyTargets = pd.read_csv(\"data/DR25_DEModel_NoisyTargetList.txt\", header=9)\n",
    "cleanDr25GaiaStellar = cleanDr25GaiaStellar[~dr25GaiaStellar.kepid.isin(noisyTargets['# 1- Kepler ID'])]\n",
    "print(str(len(cleanDr25GaiaStellar)) + \" entries after removing noisy targets\")"
   ]
  },
  {
   "cell_type": "markdown",
   "metadata": {},
   "source": [
    "Next we remove stars with radii > 1.35 Rsun (to match what Chris is currently doing - the KSCI recommends 1.25 Rsun)."
   ]
  },
  {
   "cell_type": "code",
   "execution_count": 17,
   "metadata": {},
   "outputs": [],
   "source": [
    "if doRadCut:\n",
    "    cleanDr25GaiaStellar = cleanDr25GaiaStellar[dr25GaiaStellar.radius <= 1.35]\n",
    "    print(str(len(cleanDr25GaiaStellar)) + \" entries after removing R>1.35 targets\")\n"
   ]
  },
  {
   "cell_type": "markdown",
   "metadata": {},
   "source": [
    "Next we remove stars with nan limb darkening coefficients."
   ]
  },
  {
   "cell_type": "code",
   "execution_count": 18,
   "metadata": {},
   "outputs": [
    {
     "name": "stderr",
     "output_type": "stream",
     "text": [
      "/Users/steve/anaconda3/envs/py2/lib/python2.7/site-packages/ipykernel_launcher.py:1: UserWarning: Boolean Series key will be reindexed to match DataFrame index.\n",
      "  \"\"\"Entry point for launching an IPython kernel.\n",
      "/Users/steve/anaconda3/envs/py2/lib/python2.7/site-packages/ipykernel_launcher.py:2: UserWarning: Boolean Series key will be reindexed to match DataFrame index.\n",
      "  \n",
      "/Users/steve/anaconda3/envs/py2/lib/python2.7/site-packages/ipykernel_launcher.py:3: UserWarning: Boolean Series key will be reindexed to match DataFrame index.\n",
      "  This is separate from the ipykernel package so we can avoid doing imports until\n",
      "/Users/steve/anaconda3/envs/py2/lib/python2.7/site-packages/ipykernel_launcher.py:4: UserWarning: Boolean Series key will be reindexed to match DataFrame index.\n",
      "  after removing the cwd from sys.path.\n"
     ]
    },
    {
     "name": "stdout",
     "output_type": "stream",
     "text": [
      "106936 entries after removing Nan limb darkening targets\n"
     ]
    }
   ],
   "source": [
    "cleanDr25GaiaStellar = cleanDr25GaiaStellar[~np.isnan(dr25GaiaStellar.limbdark_coeff1)]\n",
    "cleanDr25GaiaStellar = cleanDr25GaiaStellar[~np.isnan(dr25GaiaStellar.limbdark_coeff2)]\n",
    "cleanDr25GaiaStellar = cleanDr25GaiaStellar[~np.isnan(dr25GaiaStellar.limbdark_coeff3)]\n",
    "cleanDr25GaiaStellar = cleanDr25GaiaStellar[~np.isnan(dr25GaiaStellar.limbdark_coeff4)]\n",
    "print(str(len(cleanDr25GaiaStellar)) + \" entries after removing Nan limb darkening targets\")\n"
   ]
  },
  {
   "cell_type": "markdown",
   "metadata": {},
   "source": [
    "Next we remove stars with duty cycle = nan."
   ]
  },
  {
   "cell_type": "code",
   "execution_count": 19,
   "metadata": {},
   "outputs": [
    {
     "name": "stdout",
     "output_type": "stream",
     "text": [
      "106463 entries after removing Nan dutycycle targets\n"
     ]
    },
    {
     "name": "stderr",
     "output_type": "stream",
     "text": [
      "/Users/steve/anaconda3/envs/py2/lib/python2.7/site-packages/ipykernel_launcher.py:1: UserWarning: Boolean Series key will be reindexed to match DataFrame index.\n",
      "  \"\"\"Entry point for launching an IPython kernel.\n"
     ]
    }
   ],
   "source": [
    "cleanDr25GaiaStellar = cleanDr25GaiaStellar[~np.isnan(dr25GaiaStellar.dutycycle)]\n",
    "print(str(len(cleanDr25GaiaStellar)) + \" entries after removing Nan dutycycle targets\")\n"
   ]
  },
  {
   "cell_type": "markdown",
   "metadata": {},
   "source": [
    "Next we remove stars that have had a drop in duty cycle > 30% due to the removal of transits. (10% in KSCI)"
   ]
  },
  {
   "cell_type": "code",
   "execution_count": 20,
   "metadata": {},
   "outputs": [
    {
     "name": "stdout",
     "output_type": "stream",
     "text": [
      "101797 entries after removing duty cycle drops > 0.3\n"
     ]
    }
   ],
   "source": [
    "dutyCycleChange = cleanDr25GaiaStellar.dutycycle - cleanDr25GaiaStellar.dutycycle_post\n",
    "cleanDr25GaiaStellar = cleanDr25GaiaStellar[dutyCycleChange/cleanDr25GaiaStellar.dutycycle <= 0.3]\n",
    "print(str(len(cleanDr25GaiaStellar)) + \" entries after removing duty cycle drops > 0.3\")\n"
   ]
  },
  {
   "cell_type": "markdown",
   "metadata": {},
   "source": [
    "Next we remove stars that have duty cycles < 0.6."
   ]
  },
  {
   "cell_type": "code",
   "execution_count": 21,
   "metadata": {},
   "outputs": [
    {
     "name": "stdout",
     "output_type": "stream",
     "text": [
      "98381 entries after removing after removing stars with duty cycle < 0.6\n"
     ]
    }
   ],
   "source": [
    "cleanDr25GaiaStellar = cleanDr25GaiaStellar[cleanDr25GaiaStellar.dutycycle >= 0.6]\n",
    "print(str(len(cleanDr25GaiaStellar)) + \" entries after removing after removing stars with duty cycle < 0.6\")"
   ]
  },
  {
   "cell_type": "markdown",
   "metadata": {},
   "source": [
    "Next we remove stars with data span < 1000"
   ]
  },
  {
   "cell_type": "code",
   "execution_count": 22,
   "metadata": {},
   "outputs": [
    {
     "name": "stdout",
     "output_type": "stream",
     "text": [
      "90873 entries after removing after removing stars with data span < 1000\n"
     ]
    }
   ],
   "source": [
    "cleanDr25GaiaStellar = cleanDr25GaiaStellar[cleanDr25GaiaStellar.dataspan >= 1000]\n",
    "print(str(len(cleanDr25GaiaStellar)) + \" entries after removing after removing stars with data span < 1000\")"
   ]
  },
  {
   "cell_type": "markdown",
   "metadata": {},
   "source": [
    "Next we remove stars with the timeoutsumry flag != 1."
   ]
  },
  {
   "cell_type": "code",
   "execution_count": 23,
   "metadata": {},
   "outputs": [
    {
     "name": "stdout",
     "output_type": "stream",
     "text": [
      "85165 entries after removing after removing stars with timeoutsumry != 1\n"
     ]
    }
   ],
   "source": [
    "cleanDr25GaiaStellar = cleanDr25GaiaStellar[cleanDr25GaiaStellar.timeoutsumry == 1]\n",
    "print(str(len(cleanDr25GaiaStellar)) + \" entries after removing after removing stars with timeoutsumry != 1\")"
   ]
  },
  {
   "cell_type": "code",
   "execution_count": 24,
   "metadata": {},
   "outputs": [],
   "source": [
    "if catalogType == \"Berger2019\":\n",
    "    catalogHeader = \"dr25_stellar_supp_gaia_clean\"\n",
    "elif catalogType == \"Burke\":\n",
    "    catalogHeader = \"dr25_stellar_supp_burke_clean\"\n",
    "    \n",
    "if doRadCut:\n",
    "    catalogHeader = catalogHeader + \"_radCut\"\n",
    "\n",
    "cleanDr25GaiaStellar.to_csv(\"stellarCatalogs/\" + catalogHeader + \"_all.txt\", index=False)\n"
   ]
  },
  {
   "cell_type": "markdown",
   "metadata": {},
   "source": [
    "This produces the clean master list dr25_stellar_supp_gaia_clean.txt from which we will extract specific spectral types.\n",
    "\n",
    "We extract desired spectral types using the teff boundaries from Pecaut and Mamajek 2013 http://iopscience.iop.org/article/10.1088/0067-0049/208/1/9/meta;jsessionid=698F3A9F5272B070DC62876C1764BFDB.c1#apjs480616s3: <br>\n",
    "M: 2400 <= T < 3900  <br>\n",
    "K: 3900 <= T < 5300<br>\n",
    "G: 5300 <= T < 6000<br>\n",
    "F: 6000 <= T < 7300<br>\n"
   ]
  },
  {
   "cell_type": "code",
   "execution_count": null,
   "metadata": {},
   "outputs": [],
   "source": []
  },
  {
   "cell_type": "code",
   "execution_count": 25,
   "metadata": {},
   "outputs": [
    {
     "name": "stdout",
     "output_type": "stream",
     "text": [
      "40884 G targets\n",
      "22217 K targets\n",
      "910 M targets\n",
      "63101 GK targets\n",
      "64011 GKM targets\n"
     ]
    }
   ],
   "source": [
    "cleanDr25GaiaStellarG = cleanDr25GaiaStellar[(cleanDr25GaiaStellar.teff >= 5300)&(cleanDr25GaiaStellar.teff < 6000)]\n",
    "print(str(len(cleanDr25GaiaStellarG)) + \" G targets\")\n",
    "\n",
    "cleanDr25GaiaStellarK = cleanDr25GaiaStellar[(cleanDr25GaiaStellar.teff >= 3900)&(cleanDr25GaiaStellar.teff < 5300)]\n",
    "print(str(len(cleanDr25GaiaStellarK)) + \" K targets\")\n",
    "\n",
    "cleanDr25GaiaStellarM = cleanDr25GaiaStellar[(cleanDr25GaiaStellar.teff >= 2400)&(cleanDr25GaiaStellar.teff < 3900)]\n",
    "print(str(len(cleanDr25GaiaStellarM)) + \" M targets\")\n",
    "\n",
    "cleanDr25GaiaStellarGK = cleanDr25GaiaStellar[(cleanDr25GaiaStellar.teff >= 3900)&(cleanDr25GaiaStellar.teff < 6000)]\n",
    "print(str(len(cleanDr25GaiaStellarGK)) + \" GK targets\")\n",
    "\n",
    "cleanDr25GaiaStellarGKM = cleanDr25GaiaStellar[(cleanDr25GaiaStellar.teff >= 2400)&(cleanDr25GaiaStellar.teff < 6000)]\n",
    "print(str(len(cleanDr25GaiaStellarGKM)) + \" GKM targets\")\n",
    "\n",
    "# always save the GK catalog\n",
    "cleanDr25GaiaStellarGK.to_csv(\"stellarCatalogs/\" + catalogHeader + \"_GK.txt\", index=False)\n",
    "\n",
    "# only save the other catalogs if we're not doing the radius cut variation\n",
    "if doRadCut == False:\n",
    "    cleanDr25GaiaStellarG.to_csv(\"stellarCatalogs/\" + catalogHeader + \"_G.txt\", index=False)\n",
    "    cleanDr25GaiaStellarK.to_csv(\"stellarCatalogs/\" + catalogHeader + \"_K.txt\", index=False)\n",
    "    cleanDr25GaiaStellarM.to_csv(\"stellarCatalogs/\" + catalogHeader + \"_M.txt\", index=False)\n",
    "    cleanDr25GaiaStellarGKM.to_csv(\"stellarCatalogs/\" + catalogHeader + \"_GKM.txt\", index=False)\n",
    "\n"
   ]
  },
  {
   "cell_type": "code",
   "execution_count": null,
   "metadata": {},
   "outputs": [],
   "source": [
    "\n"
   ]
  },
  {
   "cell_type": "code",
   "execution_count": null,
   "metadata": {
    "scrolled": false
   },
   "outputs": [],
   "source": []
  },
  {
   "cell_type": "code",
   "execution_count": null,
   "metadata": {},
   "outputs": [],
   "source": []
  },
  {
   "cell_type": "code",
   "execution_count": null,
   "metadata": {
    "scrolled": true
   },
   "outputs": [],
   "source": []
  },
  {
   "cell_type": "code",
   "execution_count": null,
   "metadata": {},
   "outputs": [],
   "source": []
  },
  {
   "cell_type": "code",
   "execution_count": null,
   "metadata": {},
   "outputs": [],
   "source": [
    "\n"
   ]
  },
  {
   "cell_type": "code",
   "execution_count": null,
   "metadata": {},
   "outputs": [],
   "source": [
    "\n"
   ]
  },
  {
   "cell_type": "code",
   "execution_count": null,
   "metadata": {},
   "outputs": [],
   "source": []
  },
  {
   "cell_type": "code",
   "execution_count": null,
   "metadata": {},
   "outputs": [],
   "source": []
  },
  {
   "cell_type": "code",
   "execution_count": 37,
   "metadata": {
    "scrolled": false
   },
   "outputs": [
    {
     "data": {
      "text/plain": [
       "1.4998271673705648"
      ]
     },
     "execution_count": 37,
     "metadata": {},
     "output_type": "execute_result"
    }
   ],
   "source": [
    "np.max(cleanDr25GaiaStellarGK.radius)"
   ]
  },
  {
   "cell_type": "code",
   "execution_count": 38,
   "metadata": {},
   "outputs": [
    {
     "data": {
      "text/plain": [
       "1100"
      ]
     },
     "execution_count": 38,
     "metadata": {},
     "output_type": "execute_result"
    }
   ],
   "source": [
    "len(cleanDr25GaiaStellarGK[cleanDr25GaiaStellarGK.radius > 1.35])"
   ]
  },
  {
   "cell_type": "code",
   "execution_count": 40,
   "metadata": {},
   "outputs": [
    {
     "data": {
      "text/plain": [
       "0.017432370326936182"
      ]
     },
     "execution_count": 40,
     "metadata": {},
     "output_type": "execute_result"
    }
   ],
   "source": [
    "float(len(cleanDr25GaiaStellarGK[cleanDr25GaiaStellarGK.radius > 1.35]))/len(cleanDr25GaiaStellarGK)"
   ]
  },
  {
   "cell_type": "code",
   "execution_count": 41,
   "metadata": {},
   "outputs": [
    {
     "data": {
      "text/plain": [
       "63101"
      ]
     },
     "execution_count": 41,
     "metadata": {},
     "output_type": "execute_result"
    }
   ],
   "source": [
    "len(cleanDr25GaiaStellarGK)"
   ]
  },
  {
   "cell_type": "code",
   "execution_count": 31,
   "metadata": {},
   "outputs": [
    {
     "name": "stdout",
     "output_type": "stream",
     "text": [
      "mean rr 0.994108411502\n",
      "median rr 0.9904675791423871\n",
      "std rr 0.0254581058922\n"
     ]
    }
   ],
   "source": [
    "rr = cleanDr25GaiaStellarGK[\"R*\"]/cleanDr25GaiaStellarGK.radius\n",
    "print(\"mean rr \" + str(np.mean(rr)))\n",
    "print(\"median rr \" + str(np.median(rr)))\n",
    "print(\"std rr \" + str(np.std(rr)))"
   ]
  },
  {
   "cell_type": "code",
   "execution_count": null,
   "metadata": {},
   "outputs": [],
   "source": []
  },
  {
   "cell_type": "code",
   "execution_count": null,
   "metadata": {},
   "outputs": [],
   "source": []
  },
  {
   "cell_type": "code",
   "execution_count": null,
   "metadata": {},
   "outputs": [],
   "source": []
  },
  {
   "cell_type": "code",
   "execution_count": 32,
   "metadata": {
    "scrolled": false
   },
   "outputs": [],
   "source": [
    "catalogName = catalogType\n",
    "if doRadCut:\n",
    "    catalogName = catalogName + \"_radCut\""
   ]
  },
  {
   "cell_type": "code",
   "execution_count": null,
   "metadata": {},
   "outputs": [],
   "source": []
  },
  {
   "cell_type": "code",
   "execution_count": 3,
   "metadata": {},
   "outputs": [
    {
     "data": {
      "application/javascript": [
       "IPython.notebook.save_notebook()"
      ],
      "text/plain": [
       "<IPython.core.display.Javascript object>"
      ]
     },
     "metadata": {},
     "output_type": "display_data"
    }
   ],
   "source": [
    "%%javascript\n",
    "IPython.notebook.save_notebook()\n"
   ]
  },
  {
   "cell_type": "code",
   "execution_count": 4,
   "metadata": {},
   "outputs": [
    {
     "name": "stderr",
     "output_type": "stream",
     "text": [
      "[NbConvertApp] Converting notebook createStellarCatalogs.ipynb to html\n",
      "[NbConvertApp] Writing 379781 bytes to createStellarCatalogs.html\n"
     ]
    }
   ],
   "source": [
    "%%bash -s \"$catalogName\"\n",
    "jupyter nbconvert --to html createStellarCatalogs.ipynb\n",
    "mv createStellarCatalogs.html createStellarCatalogs$1.html\n"
   ]
  },
  {
   "cell_type": "code",
   "execution_count": 35,
   "metadata": {},
   "outputs": [
    {
     "data": {
      "text/plain": [
       "0"
      ]
     },
     "execution_count": 35,
     "metadata": {},
     "output_type": "execute_result"
    }
   ],
   "source": [
    "np.sum(np.isnan(cleanDr25GaiaStellarGK.limbdark_coeff4))"
   ]
  },
  {
   "cell_type": "code",
   "execution_count": 36,
   "metadata": {},
   "outputs": [
    {
     "name": "stdout",
     "output_type": "stream",
     "text": [
      "median ratio = 1.135107443010031 mad = 0.14669287382755603 mean = 1.2698489453166393 std = 8.758414487824234\n",
      "median ratio = 0.7233380490510644 mad = 0.5111874593520725 mean = 0.4198041538642899 std = 38.90871555283477\n",
      "median ratio = 0.9780313909508869 mad = 0.632460194843676 mean = 1.3712794483649036 std = 66.6984346886669\n",
      "median ratio = 1.0229363258785273 mad = 0.5840621462728491 mean = 0.5964512877928226 std = 43.13814919554386\n"
     ]
    },
    {
     "name": "stderr",
     "output_type": "stream",
     "text": [
      "/Users/steve/anaconda3/envs/py2/lib/python2.7/site-packages/ipykernel_launcher.py:9: RuntimeWarning: divide by zero encountered in divide\n",
      "  if __name__ == '__main__':\n",
      "/Users/steve/anaconda3/envs/py2/lib/python2.7/site-packages/ipykernel_launcher.py:17: RuntimeWarning: divide by zero encountered in divide\n",
      "/Users/steve/anaconda3/envs/py2/lib/python2.7/site-packages/ipykernel_launcher.py:25: RuntimeWarning: divide by zero encountered in divide\n"
     ]
    }
   ],
   "source": [
    "r = dr25GaiaStellar.limbdark_coeff1.values/dr25GaiaStellar.limbdark_coeff1_DR25.values\n",
    "r = r[~np.isnan(r)]\n",
    "r = r[np.isfinite(r)]\n",
    "print(\"median ratio = \" + str(np.median(r)) \n",
    "      + \" mad = \" + str(np.median(np.abs(r - np.median(r)))) \n",
    "      + \" mean = \" + str(np.mean(r))\n",
    "      + \" std = \" + str(np.std(r)))\n",
    "\n",
    "r = dr25GaiaStellar.limbdark_coeff2.values/dr25GaiaStellar.limbdark_coeff2_DR25.values\n",
    "r = r[~np.isnan(r)]\n",
    "r = r[np.isfinite(r)]\n",
    "print(\"median ratio = \" + str(np.median(r)) \n",
    "      + \" mad = \" + str(np.median(np.abs(r - np.median(r)))) \n",
    "      + \" mean = \" + str(np.mean(r))\n",
    "      + \" std = \" + str(np.std(r)))\n",
    "\n",
    "r = dr25GaiaStellar.limbdark_coeff3.values/dr25GaiaStellar.limbdark_coeff3_DR25.values\n",
    "r = r[~np.isnan(r)]\n",
    "r = r[np.isfinite(r)]\n",
    "print(\"median ratio = \" + str(np.median(r)) \n",
    "      + \" mad = \" + str(np.median(np.abs(r - np.median(r)))) \n",
    "      + \" mean = \" + str(np.mean(r))\n",
    "      + \" std = \" + str(np.std(r)))\n",
    "\n",
    "r = dr25GaiaStellar.limbdark_coeff4.values/dr25GaiaStellar.limbdark_coeff4_DR25.values\n",
    "r = r[~np.isnan(r)]\n",
    "r = r[np.isfinite(r)]\n",
    "print(\"median ratio = \" + str(np.median(r)) \n",
    "      + \" mad = \" + str(np.median(np.abs(r - np.median(r)))) \n",
    "      + \" mean = \" + str(np.mean(r))\n",
    "      + \" std = \" + str(np.std(r)))\n",
    "\n",
    "\n"
   ]
  },
  {
   "cell_type": "code",
   "execution_count": null,
   "metadata": {
    "scrolled": false
   },
   "outputs": [],
   "source": []
  },
  {
   "cell_type": "code",
   "execution_count": null,
   "metadata": {},
   "outputs": [],
   "source": []
  },
  {
   "cell_type": "code",
   "execution_count": null,
   "metadata": {},
   "outputs": [],
   "source": []
  },
  {
   "cell_type": "code",
   "execution_count": null,
   "metadata": {},
   "outputs": [],
   "source": []
  },
  {
   "cell_type": "code",
   "execution_count": null,
   "metadata": {},
   "outputs": [],
   "source": []
  },
  {
   "cell_type": "code",
   "execution_count": null,
   "metadata": {
    "scrolled": false
   },
   "outputs": [],
   "source": []
  },
  {
   "cell_type": "code",
   "execution_count": null,
   "metadata": {},
   "outputs": [],
   "source": [
    "\n"
   ]
  },
  {
   "cell_type": "code",
   "execution_count": null,
   "metadata": {},
   "outputs": [],
   "source": []
  },
  {
   "cell_type": "code",
   "execution_count": null,
   "metadata": {},
   "outputs": [],
   "source": []
  },
  {
   "cell_type": "code",
   "execution_count": null,
   "metadata": {},
   "outputs": [],
   "source": []
  }
 ],
 "metadata": {
  "kernelspec": {
   "display_name": "Python 2",
   "language": "python",
   "name": "python2"
  },
  "language_info": {
   "codemirror_mode": {
    "name": "ipython",
    "version": 2
   },
   "file_extension": ".py",
   "mimetype": "text/x-python",
   "name": "python",
   "nbconvert_exporter": "python",
   "pygments_lexer": "ipython2",
   "version": "2.7.15"
  }
 },
 "nbformat": 4,
 "nbformat_minor": 2
}
