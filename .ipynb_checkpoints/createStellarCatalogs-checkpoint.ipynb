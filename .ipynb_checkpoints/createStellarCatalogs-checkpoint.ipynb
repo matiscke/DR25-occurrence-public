{
 "cells": [
  {
   "cell_type": "code",
   "execution_count": 1,
   "metadata": {},
   "outputs": [],
   "source": [
    "import numpy as np\n",
    "import requests\n",
    "import pandas as pd\n",
    "from cStringIO import StringIO\n",
    "import matplotlib.pyplot as plt\n",
    "from scipy.interpolate import griddata\n"
   ]
  },
  {
   "cell_type": "code",
   "execution_count": 2,
   "metadata": {},
   "outputs": [],
   "source": [
    "doEvolBinCut = False\n",
    "# doRadCut = None, GaiaRadCut, or DR25RadCut or DR25RadCutNewLD\n",
    "doRadCut = \"DR25RadCutNewLD\""
   ]
  },
  {
   "cell_type": "markdown",
   "metadata": {},
   "source": [
    "Import the base DR25 catalog from the exoplanet archive"
   ]
  },
  {
   "cell_type": "code",
   "execution_count": 3,
   "metadata": {},
   "outputs": [],
   "source": [
    "if False:\n",
    "    urlstellar = \"https://exoplanetarchive.ipac.caltech.edu/cgi-bin/nstedAPI/nph-nstedAPI?table=q1_q17_dr25_stellar&select=*\"\n",
    "\n",
    "    r = requests.get(urlstellar)\n",
    "    if r.status_code != requests.codes.ok:\n",
    "        r.raise_for_status()\n",
    "    fh = StringIO(r.content)\n",
    "    dr25Stellar = pd.read_csv(fh, dtype={\"st_quarters\":str})\n",
    "    dr25Stellar.to_csv(\"stellarCatalogs/dr25_stellar_archive.txt\", index=False)\n",
    "else:\n",
    "    dr25Stellar = pd.read_csv(\"stellarCatalogs/dr25_stellar_archive.txt\", dtype={\"st_quarters\":str})\n",
    "\n"
   ]
  },
  {
   "cell_type": "markdown",
   "metadata": {},
   "source": [
    "Import the DR25 supplemental catalog"
   ]
  },
  {
   "cell_type": "code",
   "execution_count": 4,
   "metadata": {},
   "outputs": [],
   "source": [
    "if False:\n",
    "    urlsupp = \"https://exoplanetarchive.ipac.caltech.edu/cgi-bin/nstedAPI/nph-nstedAPI?table=q1_q17_dr25_supp_stellar&select=*\"\n",
    "    r = requests.get(urlsupp)\n",
    "    if r.status_code != requests.codes.ok:\n",
    "        r.raise_for_status()\n",
    "    fh = StringIO(r.content)\n",
    "    dr25StellarSup = pd.read_csv(fh, dtype={\"st_quarters\":str})\n",
    "    dr25StellarSup.to_csv(\"stellarCatalogs/dr25_stellar_supp_archive.txt\", index=False)\n",
    "else:\n",
    "    dr25StellarSup = pd.read_csv(\"stellarCatalogs/dr25_stellar_supp_archive.txt\", dtype={\"st_quarters\":str})\n"
   ]
  },
  {
   "cell_type": "markdown",
   "metadata": {},
   "source": [
    "Merge the two catalogs.  The supplemental catalog has fewer entries, so we have to be careful about the merge.  The merged catalog has the same number of entries as the supplemental catalog."
   ]
  },
  {
   "cell_type": "code",
   "execution_count": 5,
   "metadata": {},
   "outputs": [],
   "source": [
    "# merging with inner gives the intersection of kepids\n",
    "mergedDr25Stellar = pd.merge(dr25Stellar, dr25StellarSup, on=\"kepid\", how=\"inner\")\n",
    "# get the original column names\n",
    "sColumns = list(dr25Stellar)\n"
   ]
  },
  {
   "cell_type": "markdown",
   "metadata": {},
   "source": [
    "Because both catalogs share column names, mergedStellar has a column for each catalog, with the column names given an \"\\_x\" for the stellar catalog and \"\\_y\" for the supplemental.  We have to reconcile this by \n",
    "    a) restoring the original names, \n",
    "    b) copying the values in the supplemental catalog to the stellar columns for those columns specified in the supplemental documentation, and \n",
    "    c) removing the supplemental colums."
   ]
  },
  {
   "cell_type": "code",
   "execution_count": 6,
   "metadata": {},
   "outputs": [
    {
     "name": "stdout",
     "output_type": "stream",
     "text": [
      "the merged catalog has 197096 entries\n"
     ]
    }
   ],
   "source": [
    "\n",
    "suppColNames = [ \"kepid\",\"teff\",\"teff_err1\",\"teff_err2\",\"logg\",\"logg_err1\",\"logg_err2\",\"feh\",\"feh_err1\",\"feh_err2\",\"radius\",\"radius_err1\",\"radius_err2\",\"mass\",\"mass_err1\",\"mass_err2\",\"dens\",\"dens_err1\",\"dens_err2\",\"dist\",\"dist_err1\",\"dist_err2\",\"av\",\"av_err1\",\"av_err2\",\"prov_sec\" ]\n",
    "\n",
    "# first copy all the stellar paratmers to their original names\n",
    "for i in range(1,len(sColumns)):\n",
    "    mergedDr25Stellar[sColumns[i]] = mergedDr25Stellar[sColumns[i]+\"_x\"]\n",
    "# now overwrite using the new columns (from Savita's erratum file)\n",
    "for i in range(1,len(suppColNames)):\n",
    "    mergedDr25Stellar[suppColNames[i]] = mergedDr25Stellar[suppColNames[i]+\"_y\"]\n",
    "# drop the doubled columns\n",
    "for i in range(1,len(sColumns)):\n",
    "    mergedDr25Stellar = mergedDr25Stellar.drop([sColumns[i]+\"_x\", sColumns[i]+\"_y\"], axis=1)\n",
    "print(\"the merged catalog has \" + str(len(mergedDr25Stellar)) + \" entries\")\n",
    "\n"
   ]
  },
  {
   "cell_type": "markdown",
   "metadata": {},
   "source": [
    "Save the merged catalog."
   ]
  },
  {
   "cell_type": "code",
   "execution_count": 7,
   "metadata": {},
   "outputs": [],
   "source": [
    "if doRadCut == \"None\":\n",
    "    mergedDr25Stellar.to_csv(\"stellarCatalogs/dr25_stellar_updated_feh.txt\", index=False)"
   ]
  },
  {
   "cell_type": "markdown",
   "metadata": {},
   "source": [
    "Now restore the entries in the original stellar catalog that are not in the supplemental catalog.  First we identify the original-only entries by repeating the merge, then entries in the merge from the stellar table.  Then we concat the remaining entries with the merged table.  Finally we save the final full table."
   ]
  },
  {
   "cell_type": "code",
   "execution_count": 8,
   "metadata": {},
   "outputs": [
    {
     "name": "stdout",
     "output_type": "stream",
     "text": [
      "the final catalog has 200038 entries\n"
     ]
    }
   ],
   "source": [
    "# now get the stars not in the stellar_supp by dropping stars in the merge from stellar (using reset index)\n",
    "merge2 = pd.merge(dr25Stellar.reset_index(), dr25StellarSup, on=\"kepid\", how=\"inner\")\n",
    "dr25StellarNoSup = dr25Stellar.drop(merge2[\"index\"])\n",
    "\n",
    "# now concat the merged set and the non-supp stars\n",
    "dr25StellarFullMerged = pd.concat([mergedDr25Stellar, dr25StellarNoSup])\n",
    "\n",
    "# print(list(stellar_full_merged))\n",
    "print(\"the final catalog has \" + str(len(dr25StellarFullMerged)) + \" entries\")\n",
    "\n",
    "if doRadCut == \"None\":\n",
    "    dr25StellarFullMerged.to_csv(\"stellarCatalogs/dr25_stellar_updated_feh_all.txt\", index=False)\n",
    "\n"
   ]
  },
  {
   "cell_type": "markdown",
   "metadata": {},
   "source": [
    "Next we bring in the Gaia-derived properties from Berger et. al. (http://adsabs.harvard.edu/abs/2018ApJ...866...99B).  This provides improved radii and distances.  It also includes effective temperatures that differ from the DR25 catalog, but we believe the DR25 catalog's effectiv temperatures are more reliable. The Berger table has 177,911 entries, and we will restrict our analysis to the stellar population in the Berger table."
   ]
  },
  {
   "cell_type": "code",
   "execution_count": 9,
   "metadata": {},
   "outputs": [
    {
     "name": "stdout",
     "output_type": "stream",
     "text": [
      "the gaia/Berger catalog has 200038 entries\n"
     ]
    }
   ],
   "source": [
    "from astropy.io import ascii\n",
    "\n",
    "\n",
    "if doRadCut == \"None\":\n",
    "    # read the publised table from Berger et. al. \n",
    "    gaiaUpdates = ascii.read(\"stellarCatalogs/apj_table1_published.txt\")\n",
    "\n",
    "    gaiaUpdatesPd = gaiaUpdates.to_pandas();\n",
    "    dr25GaiaStellar = pd.merge(dr25StellarFullMerged, gaiaUpdatesPd, left_on=\"kepid\", right_on=\"KIC\", how=\"inner\")\n",
    "else:\n",
    "    dr25GaiaStellar = dr25StellarFullMerged\n",
    "\n",
    "# copy the dr25 distance and radius to renamed columns in case anyone wants to compare\n",
    "dr25GaiaStellar[\"dist_DR25\"] = dr25GaiaStellar[\"dist\"]\n",
    "dr25GaiaStellar[\"dist_DR25_err1\"] = dr25GaiaStellar[\"dist_err1\"]\n",
    "dr25GaiaStellar[\"dist_DR25_err2\"] = dr25GaiaStellar[\"dist_err2\"]\n",
    "\n",
    "dr25GaiaStellar[\"radius_DR25\"] = dr25GaiaStellar[\"radius\"]\n",
    "dr25GaiaStellar[\"radius_DR25_err1\"] = dr25GaiaStellar[\"radius_err1\"]\n",
    "dr25GaiaStellar[\"radius_DR25_err2\"] = dr25GaiaStellar[\"radius_err2\"]\n",
    "\n",
    "if doRadCut == \"GaiaRadCut\":\n",
    "    # copy Gaia distance to the dr25 distance column\n",
    "    dr25GaiaStellar[\"dist\"] = dr25GaiaStellar[\"D\"]\n",
    "    # for DR25, err1 is the upper uncertainty, err2 is the lower uncertainty and is < 0\n",
    "    # for Gaia, E_D is the upper uncertainty, E_d is the lower uncertainty and is > 0\n",
    "    dr25GaiaStellar[\"dist_err1\"] = dr25GaiaStellar[\"E_D\"]\n",
    "    dr25GaiaStellar[\"dist_err2\"] = -dr25GaiaStellar[\"e_D\"]\n",
    "    # copy Gaia radius to the dr25 radius column\n",
    "    dr25GaiaStellar[\"radius\"] = dr25GaiaStellar[\"R*\"]\n",
    "    # for DR25, err1 is the upper uncertainty, err2 is the lower uncertainty and is < 0\n",
    "    # for Gaia, E_R* is the upper uncertainty, E_R* is the lower uncertainty and is > 0\n",
    "    dr25GaiaStellar[\"radius_err1\"] = dr25GaiaStellar[\"E_R*\"]\n",
    "    dr25GaiaStellar[\"radius_err2\"] = -dr25GaiaStellar[\"e_R*\"]\n",
    "\n",
    "# we'll leave the Gaia columns in place because they have different names\n",
    "print(\"the gaia/Berger catalog has \" + str(len(dr25GaiaStellar)) + \" entries\")\n",
    "\n",
    "if doRadCut == \"None\":\n",
    "    dr25GaiaStellar.to_csv(\"stellarCatalogs/dr25_stellar_supp_gaia.txt\", index=False)\n"
   ]
  },
  {
   "cell_type": "code",
   "execution_count": 10,
   "metadata": {},
   "outputs": [
    {
     "name": "stdout",
     "output_type": "stream",
     "text": [
      "travisStellar has 186548 entries\n"
     ]
    }
   ],
   "source": [
    "travisStellar = pd.read_csv(\"stellarCatalogs/GKSPC_InOut_V1.csv\", dtype={\"band\":str})\n",
    "\n",
    "travisColNames = [ \"id_starname\",\"qualityFlag\",'parallax','parallax_err',\"iso_rad\",\"iso_rad_err1\",\n",
    "                  \"iso_rad_err2\",\"iso_logg\",\"iso_logg_err1\",\"iso_logg_err2\",\n",
    "                \"iso_feh\",\"iso_feh_err1\",\"iso_feh_err2\",\"iso_teff\",\"iso_teff_err1\",\"iso_teff_err2\",\n",
    "                \"iso_mass\",\"iso_mass_err1\",\"iso_mass_err2\",\"iso_rho\",\"iso_rho_err1\",\"iso_rho_err2\",\n",
    "                \"dist\",\"dist_err1\",\"dist_err2\",\"iso_avs\",\"iso_avs_err1\",\"iso_avs_err2\" ]\n",
    "\n",
    "# remove items not in travisColNames\n",
    "for colName in list(travisStellar):\n",
    "    if not colName in travisColNames:\n",
    "        travisStellar = travisStellar.drop(colName, axis=1)\n",
    "# extract the integer kepid from the starname\n",
    "iso_kepid = np.zeros((len(travisStellar),), dtype=np.int)\n",
    "for i in range(len(travisStellar)):\n",
    "    iso_kepid[i] = int(travisStellar[\"id_starname\"][i][3:])\n",
    "\n",
    "travisStellar[\"iso_kepid\"] = iso_kepid\n",
    "travisStellar = travisStellar.drop(\"id_starname\", axis=1)\n",
    "\n",
    "print(\"travisStellar has \" + str(len(travisStellar)) + \" entries\")\n"
   ]
  },
  {
   "cell_type": "code",
   "execution_count": null,
   "metadata": {},
   "outputs": [],
   "source": []
  },
  {
   "cell_type": "code",
   "execution_count": null,
   "metadata": {},
   "outputs": [],
   "source": []
  },
  {
   "cell_type": "code",
   "execution_count": 11,
   "metadata": {},
   "outputs": [
    {
     "name": "stdout",
     "output_type": "stream",
     "text": [
      "the gaia/Berger/Berger2018 catalog has 186548 entries\n"
     ]
    }
   ],
   "source": [
    "dr25GaiaStellar = pd.merge(dr25GaiaStellar, travisStellar, left_on=\"kepid\", right_on=\"iso_kepid\", how=\"inner\")\n",
    "print(\"the gaia/Berger/Berger2018 catalog has \" + str(len(dr25GaiaStellar)) + \" entries\")\n",
    "\n",
    "\n",
    "if doRadCut == \"None\":\n",
    "    print(sum(dr25GaiaStellar.qualityFlag == \"highRUWE\"))\n",
    "    # remove stars with qualityFlag == \"highRUWE\"\n",
    "    dr25GaiaStellar = dr25GaiaStellar[dr25GaiaStellar.qualityFlag != \"highRUWE\"]\n",
    "    print(sum(dr25GaiaStellar.qualityFlag == \"highRUWE\"))\n",
    "\n",
    "    print(\"After removing highRUWE, the gaia/Berger/Berger2018 catalog has \" + str(len(dr25GaiaStellar)) + \" entries\")\n"
   ]
  },
  {
   "cell_type": "code",
   "execution_count": null,
   "metadata": {},
   "outputs": [],
   "source": []
  },
  {
   "cell_type": "code",
   "execution_count": 13,
   "metadata": {},
   "outputs": [
    {
     "name": "stdout",
     "output_type": "stream",
     "text": [
      "the Berger2019 catalog has 186548 entries\n"
     ]
    }
   ],
   "source": [
    "\n",
    "# copy the dr25 distance and radius to renamed columns in case anyone wants to compare\n",
    "dr25GaiaStellar[\"teff_DR25\"] = dr25GaiaStellar[\"teff\"]\n",
    "dr25GaiaStellar[\"teff_DR25_err1\"] = dr25GaiaStellar[\"teff_err1\"]\n",
    "dr25GaiaStellar[\"teff_DR25_err2\"] = dr25GaiaStellar[\"teff_err2\"]\n",
    "\n",
    "dr25GaiaStellar[\"logg_DR25\"] = dr25GaiaStellar[\"logg\"]\n",
    "dr25GaiaStellar[\"logg_DR25_err1\"] = dr25GaiaStellar[\"logg_err1\"]\n",
    "dr25GaiaStellar[\"logg_DR25_err2\"] = dr25GaiaStellar[\"logg_err2\"]\n",
    "\n",
    "dr25GaiaStellar[\"feh_DR25\"] = dr25GaiaStellar[\"feh\"]\n",
    "dr25GaiaStellar[\"feh_DR25_err1\"] = dr25GaiaStellar[\"feh_err1\"]\n",
    "dr25GaiaStellar[\"feh_DR25_err2\"] = dr25GaiaStellar[\"feh_err2\"]\n",
    "\n",
    "dr25GaiaStellar[\"limbdark_coeff1_DR25\"] = dr25GaiaStellar[\"limbdark_coeff1\"]\n",
    "dr25GaiaStellar[\"limbdark_coeff2_DR25\"] = dr25GaiaStellar[\"limbdark_coeff2\"]\n",
    "dr25GaiaStellar[\"limbdark_coeff3_DR25\"] = dr25GaiaStellar[\"limbdark_coeff3\"]\n",
    "dr25GaiaStellar[\"limbdark_coeff4_DR25\"] = dr25GaiaStellar[\"limbdark_coeff4\"]\n",
    "\n",
    "if doRadCut == \"GaiaRadCut\":\n",
    "    # copy isochrone data to the dr25 data columns\n",
    "    dr25GaiaStellar[\"logg\"] = dr25GaiaStellar[\"iso_logg\"]\n",
    "    dr25GaiaStellar[\"logg_err1\"] = dr25GaiaStellar[\"iso_logg_err1\"]\n",
    "    dr25GaiaStellar[\"logg_err2\"] = -dr25GaiaStellar[\"iso_logg_err2\"]\n",
    "\n",
    "    dr25GaiaStellar[\"teff\"] = dr25GaiaStellar[\"iso_teff\"]\n",
    "    dr25GaiaStellar[\"teff_err1\"] = dr25GaiaStellar[\"iso_teff_err1\"]\n",
    "    dr25GaiaStellar[\"teff_err2\"] = -dr25GaiaStellar[\"iso_teff_err2\"]\n",
    "\n",
    "    dr25GaiaStellar[\"radius\"] = dr25GaiaStellar[\"iso_rad\"]\n",
    "    dr25GaiaStellar[\"radius_err1\"] = dr25GaiaStellar[\"iso_rad_err1\"]\n",
    "    dr25GaiaStellar[\"radius_err2\"] = -dr25GaiaStellar[\"iso_rad_err2\"]\n",
    "\n",
    "    dr25GaiaStellar[\"feh\"] = dr25GaiaStellar[\"iso_feh\"]\n",
    "    dr25GaiaStellar[\"feh_err1\"] = dr25GaiaStellar[\"iso_feh_err1\"]\n",
    "    dr25GaiaStellar[\"feh_err2\"] = -dr25GaiaStellar[\"iso_feh_err2\"]\n",
    "\n",
    "    \n",
    "if (doRadCut == \"GaiaRadCut\") | (doRadCut == \"DR25RadCutNewLD\"):\n",
    "    # now we have to correct the DR25 limb darkening coefficients\n",
    "    # by linearly interpolating the table from Claret and Boemen\n",
    "    # this takes several minutes\n",
    "\n",
    "    limbDarkeningTable= pd.read_csv(\"stellarCatalogs/claretBoemenTableEqn5Kepler.txt\", delim_whitespace=True)\n",
    "\n",
    "    ldParams = np.transpose(np.array((limbDarkeningTable.logg.values,\n",
    "                                      limbDarkeningTable.teff.values,\n",
    "                                      limbDarkeningTable.feh.values)))\n",
    "\n",
    "    starParams = np.transpose(np.array((dr25GaiaStellar.logg.values, \n",
    "                  dr25GaiaStellar.teff.values, \n",
    "                  dr25GaiaStellar.feh.values)))\n",
    "\n",
    "    dr25GaiaStellar[\"limbdark_coeff1\"] = griddata(ldParams, limbDarkeningTable.a1.values, starParams)\n",
    "    dr25GaiaStellar[\"limbdark_coeff2\"] = griddata(ldParams, limbDarkeningTable.a2.values, starParams)\n",
    "    dr25GaiaStellar[\"limbdark_coeff3\"] = griddata(ldParams, limbDarkeningTable.a3.values, starParams)\n",
    "    dr25GaiaStellar[\"limbdark_coeff4\"] = griddata(ldParams, limbDarkeningTable.a4.values, starParams)\n",
    "\n",
    "# we'll leave the Gaia columns in place because they have different names\n",
    "print(\"the Berger2019 catalog has \" + str(len(dr25GaiaStellar)) + \" entries\")\n",
    "\n",
    "\n",
    "if doRadCut == \"None\":\n",
    "    dr25GaiaStellar.to_csv(\"stellarCatalogs/dr25_stellar_supp_gaia_logg.txt\", index=False)\n",
    "\n",
    "    "
   ]
  },
  {
   "cell_type": "code",
   "execution_count": null,
   "metadata": {},
   "outputs": [],
   "source": []
  },
  {
   "cell_type": "markdown",
   "metadata": {},
   "source": [
    "dr25_stellar_supp_gaia_logg.txt is our base catalog.  We now apply several cuts to restrict our occurrence rate analysis to targets for which we have reliable completeness information, following the guidelines in Section 3.6 of https://exoplanetarchive.ipac.caltech.edu/docs/KSCI-19111-002.pdf."
   ]
  },
  {
   "cell_type": "code",
   "execution_count": 14,
   "metadata": {},
   "outputs": [],
   "source": [
    "cleanDr25GaiaStellar = dr25GaiaStellar"
   ]
  },
  {
   "cell_type": "markdown",
   "metadata": {},
   "source": [
    "First we remove the stars marked binary due to Gaia radius (Bin = 1 or 3) or evolved (Evol > 0).  We do not remove targets with AO companions (Bin = 2) because the target star population was not uniformly surveyed with AO.  We expect few evolved stars because most should have been removed by the R <= 1.25 cut.\n",
    "\n"
   ]
  },
  {
   "cell_type": "code",
   "execution_count": null,
   "metadata": {},
   "outputs": [],
   "source": []
  },
  {
   "cell_type": "code",
   "execution_count": null,
   "metadata": {},
   "outputs": [],
   "source": []
  },
  {
   "cell_type": "code",
   "execution_count": 15,
   "metadata": {},
   "outputs": [],
   "source": [
    "from evolstate_lib import evolstate\n",
    "\n",
    "if doEvolBinCut:\n",
    "    binaryDr25GaiaStellar = cleanDr25GaiaStellar[(cleanDr25GaiaStellar.Bin == 1)|(cleanDr25GaiaStellar.Bin == 3)]\n",
    "    if doRadCut != \"None\":\n",
    "        binaryDr25GaiaStellar.to_csv(\"stellarCatalogs/dr25_stellar_supp_gaia_binaries.txt\", index=False)\n",
    "    print(\"There are \" + str(len(binaryDr25GaiaStellar)) + \" targets with binary flag == 1 or 3\")\n",
    "\n",
    "    cleanDr25GaiaStellar[\"Evol\"] = evolstate.evolstate(cleanDr25GaiaStellar.teff.values, \n",
    "                                                       cleanDr25GaiaStellar.radius.values, cleanDr25GaiaStellar.logg.values)\n",
    "    evolvedDr25GaiaStellar = cleanDr25GaiaStellar[cleanDr25GaiaStellar.Evol > 0]\n",
    "    if doRadCut != \"None\":\n",
    "        evolvedDr25GaiaStellar.to_csv(\"stellarCatalogs/dr25_stellar_supp_gaia_evolved.txt\", index=False)\n",
    "    print(\"There are \" + str(len(evolvedDr25GaiaStellar)) + \" targets with evolved flag > 0\")\n",
    "\n",
    "    cleanDr25GaiaStellar = cleanDr25GaiaStellar[(cleanDr25GaiaStellar.Bin == 0)|(cleanDr25GaiaStellar.Bin == 2)]\n",
    "    print(str(len(cleanDr25GaiaStellar)) + \" entries after removing marked binaries\")\n",
    "    cleanDr25GaiaStellar = cleanDr25GaiaStellar[cleanDr25GaiaStellar.Evol == 0]\n",
    "    print(str(len(cleanDr25GaiaStellar)) + \" entries after removing marked evolved stars\")\n",
    "\n"
   ]
  },
  {
   "cell_type": "code",
   "execution_count": null,
   "metadata": {},
   "outputs": [],
   "source": []
  },
  {
   "cell_type": "code",
   "execution_count": null,
   "metadata": {},
   "outputs": [],
   "source": []
  },
  {
   "cell_type": "code",
   "execution_count": 16,
   "metadata": {},
   "outputs": [],
   "source": []
  },
  {
   "cell_type": "code",
   "execution_count": null,
   "metadata": {},
   "outputs": [],
   "source": []
  },
  {
   "cell_type": "markdown",
   "metadata": {},
   "source": [
    "Next we remove stars that are on the list https://github.com/nasa/KeplerPORTs/blob/master/DR25_DEModel_NoisyTargetList.txt."
   ]
  },
  {
   "cell_type": "code",
   "execution_count": 18,
   "metadata": {},
   "outputs": [
    {
     "name": "stdout",
     "output_type": "stream",
     "text": [
      "178428 entries after removing noisy targets\n"
     ]
    }
   ],
   "source": [
    "noisyTargets = pd.read_csv(\"data/DR25_DEModel_NoisyTargetList.txt\", header=9)\n",
    "cleanDr25GaiaStellar = cleanDr25GaiaStellar[~cleanDr25GaiaStellar.kepid.isin(noisyTargets['# 1- Kepler ID'])]\n",
    "print(str(len(cleanDr25GaiaStellar)) + \" entries after removing noisy targets\")"
   ]
  },
  {
   "cell_type": "markdown",
   "metadata": {},
   "source": [
    "Next we remove stars with radii > 1.35 Rsun (to match what Chris is currently doing - the KSCI recommends 1.25 Rsun)."
   ]
  },
  {
   "cell_type": "code",
   "execution_count": 19,
   "metadata": {},
   "outputs": [
    {
     "name": "stdout",
     "output_type": "stream",
     "text": [
      "131215 entries after removing DR25 R>1.35 targets\n"
     ]
    }
   ],
   "source": [
    "if (doRadCut == \"DR25RadCut\") | (doRadCut == \"DR25RadCutNewLD\"):\n",
    "    cleanDr25GaiaStellar = cleanDr25GaiaStellar[cleanDr25GaiaStellar.radius <= 1.35]\n",
    "    print(str(len(cleanDr25GaiaStellar)) + \" entries after removing DR25 R>1.35 targets\")\n",
    "elif doRadCut == \"GaiaRadCut\":\n",
    "    cleanDr25GaiaStellar = cleanDr25GaiaStellar[cleanDr25GaiaStellar.radius <= 1.35]\n",
    "    print(str(len(cleanDr25GaiaStellar)) + \" entries after removing Gaia R>1.35 targets\")\n"
   ]
  },
  {
   "cell_type": "markdown",
   "metadata": {},
   "source": [
    "Next we remove stars with nan limb darkening coefficients."
   ]
  },
  {
   "cell_type": "code",
   "execution_count": 20,
   "metadata": {},
   "outputs": [
    {
     "name": "stderr",
     "output_type": "stream",
     "text": [
      "/Users/steve/anaconda3/envs/py2/lib/python2.7/site-packages/ipykernel_launcher.py:1: UserWarning: Boolean Series key will be reindexed to match DataFrame index.\n",
      "  \"\"\"Entry point for launching an IPython kernel.\n",
      "/Users/steve/anaconda3/envs/py2/lib/python2.7/site-packages/ipykernel_launcher.py:2: UserWarning: Boolean Series key will be reindexed to match DataFrame index.\n",
      "  \n",
      "/Users/steve/anaconda3/envs/py2/lib/python2.7/site-packages/ipykernel_launcher.py:3: UserWarning: Boolean Series key will be reindexed to match DataFrame index.\n",
      "  This is separate from the ipykernel package so we can avoid doing imports until\n",
      "/Users/steve/anaconda3/envs/py2/lib/python2.7/site-packages/ipykernel_launcher.py:4: UserWarning: Boolean Series key will be reindexed to match DataFrame index.\n",
      "  after removing the cwd from sys.path.\n"
     ]
    },
    {
     "name": "stdout",
     "output_type": "stream",
     "text": [
      "130152 entries after removing Nan limb darkening targets\n"
     ]
    }
   ],
   "source": [
    "cleanDr25GaiaStellar = cleanDr25GaiaStellar[~np.isnan(dr25GaiaStellar.limbdark_coeff1)]\n",
    "cleanDr25GaiaStellar = cleanDr25GaiaStellar[~np.isnan(dr25GaiaStellar.limbdark_coeff2)]\n",
    "cleanDr25GaiaStellar = cleanDr25GaiaStellar[~np.isnan(dr25GaiaStellar.limbdark_coeff3)]\n",
    "cleanDr25GaiaStellar = cleanDr25GaiaStellar[~np.isnan(dr25GaiaStellar.limbdark_coeff4)]\n",
    "print(str(len(cleanDr25GaiaStellar)) + \" entries after removing Nan limb darkening targets\")\n"
   ]
  },
  {
   "cell_type": "markdown",
   "metadata": {},
   "source": [
    "Next we remove stars with duty cycle = nan."
   ]
  },
  {
   "cell_type": "code",
   "execution_count": 21,
   "metadata": {},
   "outputs": [
    {
     "name": "stdout",
     "output_type": "stream",
     "text": [
      "129678 entries after removing Nan dutycycle targets\n"
     ]
    },
    {
     "name": "stderr",
     "output_type": "stream",
     "text": [
      "/Users/steve/anaconda3/envs/py2/lib/python2.7/site-packages/ipykernel_launcher.py:1: UserWarning: Boolean Series key will be reindexed to match DataFrame index.\n",
      "  \"\"\"Entry point for launching an IPython kernel.\n"
     ]
    }
   ],
   "source": [
    "cleanDr25GaiaStellar = cleanDr25GaiaStellar[~np.isnan(dr25GaiaStellar.dutycycle)]\n",
    "print(str(len(cleanDr25GaiaStellar)) + \" entries after removing Nan dutycycle targets\")\n"
   ]
  },
  {
   "cell_type": "markdown",
   "metadata": {},
   "source": [
    "Next we remove stars that have had a drop in duty cycle > 30% due to the removal of transits. (10% in KSCI)"
   ]
  },
  {
   "cell_type": "code",
   "execution_count": 22,
   "metadata": {},
   "outputs": [
    {
     "name": "stdout",
     "output_type": "stream",
     "text": [
      "127475 entries after removing duty cycle drops > 0.3\n"
     ]
    }
   ],
   "source": [
    "dutyCycleChange = cleanDr25GaiaStellar.dutycycle - cleanDr25GaiaStellar.dutycycle_post\n",
    "cleanDr25GaiaStellar = cleanDr25GaiaStellar[dutyCycleChange/cleanDr25GaiaStellar.dutycycle <= 0.3]\n",
    "print(str(len(cleanDr25GaiaStellar)) + \" entries after removing duty cycle drops > 0.3\")\n"
   ]
  },
  {
   "cell_type": "markdown",
   "metadata": {},
   "source": [
    "Next we remove stars that have duty cycles < 0.6."
   ]
  },
  {
   "cell_type": "code",
   "execution_count": 23,
   "metadata": {},
   "outputs": [
    {
     "name": "stdout",
     "output_type": "stream",
     "text": [
      "123461 entries after removing after removing stars with duty cycle < 0.6\n"
     ]
    }
   ],
   "source": [
    "cleanDr25GaiaStellar = cleanDr25GaiaStellar[cleanDr25GaiaStellar.dutycycle >= 0.6]\n",
    "print(str(len(cleanDr25GaiaStellar)) + \" entries after removing after removing stars with duty cycle < 0.6\")"
   ]
  },
  {
   "cell_type": "markdown",
   "metadata": {},
   "source": [
    "Next we remove stars with data span < 1000"
   ]
  },
  {
   "cell_type": "code",
   "execution_count": 24,
   "metadata": {},
   "outputs": [
    {
     "name": "stdout",
     "output_type": "stream",
     "text": [
      "113800 entries after removing after removing stars with data span < 1000\n"
     ]
    }
   ],
   "source": [
    "cleanDr25GaiaStellar = cleanDr25GaiaStellar[cleanDr25GaiaStellar.dataspan >= 1000]\n",
    "print(str(len(cleanDr25GaiaStellar)) + \" entries after removing after removing stars with data span < 1000\")"
   ]
  },
  {
   "cell_type": "markdown",
   "metadata": {},
   "source": [
    "Next we remove stars with the timeoutsumry flag != 1."
   ]
  },
  {
   "cell_type": "code",
   "execution_count": 25,
   "metadata": {},
   "outputs": [
    {
     "name": "stdout",
     "output_type": "stream",
     "text": [
      "107276 entries after removing after removing stars with timeoutsumry != 1\n"
     ]
    }
   ],
   "source": [
    "cleanDr25GaiaStellar = cleanDr25GaiaStellar[cleanDr25GaiaStellar.timeoutsumry == 1]\n",
    "print(str(len(cleanDr25GaiaStellar)) + \" entries after removing after removing stars with timeoutsumry != 1\")"
   ]
  },
  {
   "cell_type": "code",
   "execution_count": 26,
   "metadata": {},
   "outputs": [],
   "source": [
    "catalogHeader = \"dr25_stellar_supp_gaia_clean\"\n",
    "    \n",
    "if doRadCut != \"None\":\n",
    "    catalogHeader = catalogHeader + \"_\" + doRadCut\n",
    "\n",
    "if doRadCut == \"None\":\n",
    "    cleanDr25GaiaStellar.to_csv(\"stellarCatalogs/\" + catalogHeader + \"_all.txt\", index=False)\n"
   ]
  },
  {
   "cell_type": "markdown",
   "metadata": {},
   "source": [
    "This produces the clean master list dr25_stellar_supp_gaia_clean.txt from which we will extract specific spectral types.\n",
    "\n",
    "We extract desired spectral types using the teff boundaries from Pecaut and Mamajek 2013 http://iopscience.iop.org/article/10.1088/0067-0049/208/1/9/meta;jsessionid=698F3A9F5272B070DC62876C1764BFDB.c1#apjs480616s3: <br>\n",
    "M: 2400 <= T < 3900  <br>\n",
    "K: 3900 <= T < 5300<br>\n",
    "G: 5300 <= T < 6000<br>\n",
    "F: 6000 <= T < 7300<br>\n"
   ]
  },
  {
   "cell_type": "code",
   "execution_count": 27,
   "metadata": {},
   "outputs": [
    {
     "name": "stdout",
     "output_type": "stream",
     "text": [
      "50129 G targets\n",
      "21039 K targets\n",
      "1332 M targets\n",
      "71168 GK targets\n",
      "72500 GKM targets\n"
     ]
    }
   ],
   "source": [
    "cleanDr25GaiaStellarG = cleanDr25GaiaStellar[(cleanDr25GaiaStellar.teff >= 5300)&(cleanDr25GaiaStellar.teff < 6000)]\n",
    "print(str(len(cleanDr25GaiaStellarG)) + \" G targets\")\n",
    "\n",
    "cleanDr25GaiaStellarK = cleanDr25GaiaStellar[(cleanDr25GaiaStellar.teff >= 3900)&(cleanDr25GaiaStellar.teff < 5300)]\n",
    "print(str(len(cleanDr25GaiaStellarK)) + \" K targets\")\n",
    "\n",
    "cleanDr25GaiaStellarM = cleanDr25GaiaStellar[(cleanDr25GaiaStellar.teff >= 2400)&(cleanDr25GaiaStellar.teff < 3900)]\n",
    "print(str(len(cleanDr25GaiaStellarM)) + \" M targets\")\n",
    "\n",
    "cleanDr25GaiaStellarGK = cleanDr25GaiaStellar[(cleanDr25GaiaStellar.teff >= 3900)&(cleanDr25GaiaStellar.teff < 6000)]\n",
    "print(str(len(cleanDr25GaiaStellarGK)) + \" GK targets\")\n",
    "\n",
    "cleanDr25GaiaStellarGKM = cleanDr25GaiaStellar[(cleanDr25GaiaStellar.teff >= 2400)&(cleanDr25GaiaStellar.teff < 6000)]\n",
    "print(str(len(cleanDr25GaiaStellarGKM)) + \" GKM targets\")\n",
    "\n",
    "# always save the GK catalog\n",
    "cleanDr25GaiaStellarGK.to_csv(\"stellarCatalogs/\" + catalogHeader + \"_GK.txt\", index=False)\n",
    "\n",
    "# only save the other catalogs if we're not doing the radius cut variation\n",
    "if doRadCut == \"None\":\n",
    "    cleanDr25GaiaStellarG.to_csv(\"stellarCatalogs/\" + catalogHeader + \"_G.txt\", index=False)\n",
    "    cleanDr25GaiaStellarK.to_csv(\"stellarCatalogs/\" + catalogHeader + \"_K.txt\", index=False)\n",
    "    cleanDr25GaiaStellarM.to_csv(\"stellarCatalogs/\" + catalogHeader + \"_M.txt\", index=False)\n",
    "    cleanDr25GaiaStellarGKM.to_csv(\"stellarCatalogs/\" + catalogHeader + \"_GKM.txt\", index=False)\n",
    "\n"
   ]
  },
  {
   "cell_type": "code",
   "execution_count": null,
   "metadata": {},
   "outputs": [],
   "source": []
  },
  {
   "cell_type": "code",
   "execution_count": null,
   "metadata": {},
   "outputs": [],
   "source": []
  },
  {
   "cell_type": "code",
   "execution_count": 28,
   "metadata": {},
   "outputs": [
    {
     "data": {
      "text/plain": [
       "7339"
      ]
     },
     "execution_count": 28,
     "metadata": {},
     "output_type": "execute_result"
    }
   ],
   "source": [
    "sum(cleanDr25GaiaStellarGK.qualityFlag == \"highRUWE\")"
   ]
  },
  {
   "cell_type": "code",
   "execution_count": null,
   "metadata": {},
   "outputs": [],
   "source": []
  },
  {
   "cell_type": "code",
   "execution_count": null,
   "metadata": {
    "scrolled": false
   },
   "outputs": [],
   "source": [
    "\n"
   ]
  },
  {
   "cell_type": "code",
   "execution_count": null,
   "metadata": {},
   "outputs": [],
   "source": [
    "\n"
   ]
  },
  {
   "cell_type": "code",
   "execution_count": null,
   "metadata": {
    "scrolled": true
   },
   "outputs": [],
   "source": []
  },
  {
   "cell_type": "code",
   "execution_count": null,
   "metadata": {},
   "outputs": [],
   "source": []
  },
  {
   "cell_type": "code",
   "execution_count": null,
   "metadata": {},
   "outputs": [],
   "source": [
    "\n",
    "\n"
   ]
  },
  {
   "cell_type": "code",
   "execution_count": null,
   "metadata": {},
   "outputs": [],
   "source": [
    "\n"
   ]
  },
  {
   "cell_type": "code",
   "execution_count": null,
   "metadata": {},
   "outputs": [],
   "source": []
  },
  {
   "cell_type": "code",
   "execution_count": null,
   "metadata": {},
   "outputs": [],
   "source": []
  },
  {
   "cell_type": "code",
   "execution_count": 34,
   "metadata": {
    "scrolled": false
   },
   "outputs": [
    {
     "data": {
      "text/plain": [
       "1.35"
      ]
     },
     "execution_count": 34,
     "metadata": {},
     "output_type": "execute_result"
    }
   ],
   "source": [
    "np.max(cleanDr25GaiaStellarGK.radius)"
   ]
  },
  {
   "cell_type": "code",
   "execution_count": 35,
   "metadata": {},
   "outputs": [
    {
     "data": {
      "text/plain": [
       "0"
      ]
     },
     "execution_count": 35,
     "metadata": {},
     "output_type": "execute_result"
    }
   ],
   "source": [
    "len(cleanDr25GaiaStellarGK[cleanDr25GaiaStellarGK.radius > 1.35])"
   ]
  },
  {
   "cell_type": "code",
   "execution_count": 36,
   "metadata": {},
   "outputs": [
    {
     "data": {
      "text/plain": [
       "0.0"
      ]
     },
     "execution_count": 36,
     "metadata": {},
     "output_type": "execute_result"
    }
   ],
   "source": [
    "float(len(cleanDr25GaiaStellarGK[cleanDr25GaiaStellarGK.radius > 1.35]))/len(cleanDr25GaiaStellarGK)"
   ]
  },
  {
   "cell_type": "code",
   "execution_count": 37,
   "metadata": {},
   "outputs": [
    {
     "data": {
      "text/plain": [
       "71168"
      ]
     },
     "execution_count": 37,
     "metadata": {},
     "output_type": "execute_result"
    }
   ],
   "source": [
    "len(cleanDr25GaiaStellarGK)"
   ]
  },
  {
   "cell_type": "code",
   "execution_count": 38,
   "metadata": {},
   "outputs": [],
   "source": [
    "if doRadCut == \"None\":\n",
    "    rr = cleanDr25GaiaStellarGK[\"R*\"]/cleanDr25GaiaStellarGK.radius\n",
    "    print(\"mean rr \" + str(np.mean(rr)))\n",
    "    print(\"median rr \" + str(np.median(rr)))\n",
    "    print(\"std rr \" + str(np.std(rr)))"
   ]
  },
  {
   "cell_type": "code",
   "execution_count": null,
   "metadata": {},
   "outputs": [],
   "source": []
  },
  {
   "cell_type": "code",
   "execution_count": null,
   "metadata": {},
   "outputs": [],
   "source": []
  },
  {
   "cell_type": "code",
   "execution_count": null,
   "metadata": {},
   "outputs": [],
   "source": []
  },
  {
   "cell_type": "code",
   "execution_count": 39,
   "metadata": {
    "scrolled": false
   },
   "outputs": [],
   "source": [
    "catalogName = \"\"\n",
    "if doRadCut != \"None\":\n",
    "    catalogName = catalogName + \"_\" + doRadCut"
   ]
  },
  {
   "cell_type": "code",
   "execution_count": null,
   "metadata": {},
   "outputs": [],
   "source": []
  },
  {
   "cell_type": "code",
   "execution_count": 40,
   "metadata": {},
   "outputs": [
    {
     "data": {
      "application/javascript": [
       "IPython.notebook.save_notebook()"
      ],
      "text/plain": [
       "<IPython.core.display.Javascript object>"
      ]
     },
     "metadata": {},
     "output_type": "display_data"
    }
   ],
   "source": [
    "%%javascript\n",
    "IPython.notebook.save_notebook()\n"
   ]
  },
  {
   "cell_type": "code",
   "execution_count": 41,
   "metadata": {},
   "outputs": [
    {
     "name": "stderr",
     "output_type": "stream",
     "text": [
      "[NbConvertApp] Converting notebook createStellarCatalogs.ipynb to html\n",
      "[NbConvertApp] Writing 1481949 bytes to createStellarCatalogs.html\n"
     ]
    }
   ],
   "source": [
    "%%bash -s \"$catalogName\"\n",
    "jupyter nbconvert --to html createStellarCatalogs.ipynb\n",
    "mv createStellarCatalogs.html createStellarCatalogs$1.html\n"
   ]
  },
  {
   "cell_type": "code",
   "execution_count": 42,
   "metadata": {},
   "outputs": [
    {
     "data": {
      "text/plain": [
       "0"
      ]
     },
     "execution_count": 42,
     "metadata": {},
     "output_type": "execute_result"
    }
   ],
   "source": [
    "np.sum(np.isnan(cleanDr25GaiaStellarGK.limbdark_coeff4))"
   ]
  },
  {
   "cell_type": "code",
   "execution_count": 43,
   "metadata": {},
   "outputs": [
    {
     "name": "stdout",
     "output_type": "stream",
     "text": [
      "median ratio = 0.9999538587130505 mad = 0.0021012064403751474 mean = 0.9987559180909366 std = 0.12273654616852447\n",
      "median ratio = 1.0000291171915334 mad = 0.006555709044393954 mean = 0.9992691481703434 std = 1.5126170139989241\n",
      "median ratio = 1.0000277399380806 mad = 0.007243086682838906 mean = 0.9946105351635417 std = 3.8047719793221315\n",
      "median ratio = 1.0000055134390073 mad = 0.006831228786461918 mean = 1.0081890720581608 std = 2.047038027549432\n"
     ]
    },
    {
     "name": "stderr",
     "output_type": "stream",
     "text": [
      "/Users/steve/anaconda3/envs/py2/lib/python2.7/site-packages/ipykernel_launcher.py:1: RuntimeWarning: divide by zero encountered in divide\n",
      "  \"\"\"Entry point for launching an IPython kernel.\n",
      "/Users/steve/anaconda3/envs/py2/lib/python2.7/site-packages/ipykernel_launcher.py:9: RuntimeWarning: divide by zero encountered in divide\n",
      "  if __name__ == '__main__':\n",
      "/Users/steve/anaconda3/envs/py2/lib/python2.7/site-packages/ipykernel_launcher.py:17: RuntimeWarning: divide by zero encountered in divide\n",
      "/Users/steve/anaconda3/envs/py2/lib/python2.7/site-packages/ipykernel_launcher.py:25: RuntimeWarning: divide by zero encountered in divide\n"
     ]
    }
   ],
   "source": [
    "r = dr25GaiaStellar.limbdark_coeff1.values/dr25GaiaStellar.limbdark_coeff1_DR25.values\n",
    "r = r[~np.isnan(r)]\n",
    "r = r[np.isfinite(r)]\n",
    "print(\"median ratio = \" + str(np.median(r)) \n",
    "      + \" mad = \" + str(np.median(np.abs(r - np.median(r)))) \n",
    "      + \" mean = \" + str(np.mean(r))\n",
    "      + \" std = \" + str(np.std(r)))\n",
    "\n",
    "r = dr25GaiaStellar.limbdark_coeff2.values/dr25GaiaStellar.limbdark_coeff2_DR25.values\n",
    "r = r[~np.isnan(r)]\n",
    "r = r[np.isfinite(r)]\n",
    "print(\"median ratio = \" + str(np.median(r)) \n",
    "      + \" mad = \" + str(np.median(np.abs(r - np.median(r)))) \n",
    "      + \" mean = \" + str(np.mean(r))\n",
    "      + \" std = \" + str(np.std(r)))\n",
    "\n",
    "r = dr25GaiaStellar.limbdark_coeff3.values/dr25GaiaStellar.limbdark_coeff3_DR25.values\n",
    "r = r[~np.isnan(r)]\n",
    "r = r[np.isfinite(r)]\n",
    "print(\"median ratio = \" + str(np.median(r)) \n",
    "      + \" mad = \" + str(np.median(np.abs(r - np.median(r)))) \n",
    "      + \" mean = \" + str(np.mean(r))\n",
    "      + \" std = \" + str(np.std(r)))\n",
    "\n",
    "r = dr25GaiaStellar.limbdark_coeff4.values/dr25GaiaStellar.limbdark_coeff4_DR25.values\n",
    "r = r[~np.isnan(r)]\n",
    "r = r[np.isfinite(r)]\n",
    "print(\"median ratio = \" + str(np.median(r)) \n",
    "      + \" mad = \" + str(np.median(np.abs(r - np.median(r)))) \n",
    "      + \" mean = \" + str(np.mean(r))\n",
    "      + \" std = \" + str(np.std(r)))\n",
    "\n",
    "\n"
   ]
  },
  {
   "cell_type": "code",
   "execution_count": null,
   "metadata": {
    "scrolled": false
   },
   "outputs": [],
   "source": []
  },
  {
   "cell_type": "code",
   "execution_count": null,
   "metadata": {},
   "outputs": [],
   "source": []
  },
  {
   "cell_type": "code",
   "execution_count": 45,
   "metadata": {},
   "outputs": [
    {
     "data": {
      "text/plain": [
       "True"
      ]
     },
     "execution_count": 45,
     "metadata": {},
     "output_type": "execute_result"
    }
   ],
   "source": [
    "all(cleanDr25GaiaStellarGK.radius == cleanDr25GaiaStellarGK.radius_DR25)"
   ]
  },
  {
   "cell_type": "code",
   "execution_count": 46,
   "metadata": {},
   "outputs": [
    {
     "data": {
      "text/plain": [
       "200038"
      ]
     },
     "execution_count": 46,
     "metadata": {},
     "output_type": "execute_result"
    }
   ],
   "source": [
    "len(dr25StellarFullMerged)"
   ]
  },
  {
   "cell_type": "code",
   "execution_count": 48,
   "metadata": {},
   "outputs": [
    {
     "data": {
      "text/plain": [
       "200038"
      ]
     },
     "execution_count": 48,
     "metadata": {},
     "output_type": "execute_result"
    }
   ],
   "source": [
    "len(np.unique(dr25StellarFullMerged.kepid))"
   ]
  },
  {
   "cell_type": "code",
   "execution_count": null,
   "metadata": {
    "scrolled": false
   },
   "outputs": [],
   "source": []
  },
  {
   "cell_type": "code",
   "execution_count": null,
   "metadata": {},
   "outputs": [],
   "source": [
    "\n"
   ]
  },
  {
   "cell_type": "code",
   "execution_count": null,
   "metadata": {},
   "outputs": [],
   "source": []
  },
  {
   "cell_type": "code",
   "execution_count": null,
   "metadata": {},
   "outputs": [],
   "source": []
  },
  {
   "cell_type": "code",
   "execution_count": null,
   "metadata": {},
   "outputs": [],
   "source": []
  }
 ],
 "metadata": {
  "kernelspec": {
   "display_name": "Python 2",
   "language": "python",
   "name": "python2"
  },
  "language_info": {
   "codemirror_mode": {
    "name": "ipython",
    "version": 2
   },
   "file_extension": ".py",
   "mimetype": "text/x-python",
   "name": "python",
   "nbconvert_exporter": "python",
   "pygments_lexer": "ipython2",
   "version": "2.7.15"
  }
 },
 "nbformat": 4,
 "nbformat_minor": 2
}
